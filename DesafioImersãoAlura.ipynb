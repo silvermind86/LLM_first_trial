{
  "nbformat": 4,
  "nbformat_minor": 0,
  "metadata": {
    "colab": {
      "provenance": [],
      "authorship_tag": "ABX9TyOs5ppu3mvuxAe+UM3/zK+Z",
      "include_colab_link": true
    },
    "kernelspec": {
      "name": "python3",
      "display_name": "Python 3"
    },
    "language_info": {
      "name": "python"
    }
  },
  "cells": [
    {
      "cell_type": "markdown",
      "metadata": {
        "id": "view-in-github",
        "colab_type": "text"
      },
      "source": [
        "<a href=\"https://colab.research.google.com/github/silvermind86/LLM_first_trial/blob/main/DesafioImers%C3%A3oAlura.ipynb\" target=\"_parent\"><img src=\"https://colab.research.google.com/assets/colab-badge.svg\" alt=\"Open In Colab\"/></a>"
      ]
    },
    {
      "cell_type": "markdown",
      "source": [
        "**# Gerencia de endereços guiada por texto ou \"voz\" em um site de empréstimos**\n",
        "\n",
        "Instalando o SDK do Gemini e iniciando funções e variáveis para uso futuro."
      ],
      "metadata": {
        "id": "2WCwTtCg4F2P"
      }
    },
    {
      "cell_type": "code",
      "execution_count": 32,
      "metadata": {
        "id": "m_Bnl6Py4ApT"
      },
      "outputs": [],
      "source": [
        "!pip install -q -U google-generativeai\n",
        "\n",
        "import google.generativeai as genai\n",
        "import numpy as np\n",
        "import pandas as pd\n",
        "import textwrap\n",
        "import json\n",
        "from google.colab import userdata\n",
        "from IPython.display import display\n",
        "from IPython.display import Markdown\n",
        "\n",
        "safety_settings = {\n",
        "    'HARASSMENT': 'BLOCK_LOW_AND_ABOVE',\n",
        "    'HATE': 'BLOCK_MEDIUM_AND_ABOVE',\n",
        "    'SEXUAL': 'BLOCK_LOW_AND_ABOVE',\n",
        "    'DANGEROUS': 'BLOCK_MEDIUM_AND_ABOVE'\n",
        "}\n",
        "generation_config = {\n",
        "    'candidate_count': 1,\n",
        "    'temperature': 0.2\n",
        "}\n",
        "site_map = [\n",
        "  {'titulo: ': 'Entrada', 'descrição': 'Entrada do site com boas vindas e links para as demais funções', 'url': 'http://banco.banco.banco/home'},\n",
        "  {'titulo: ': 'Empréstimos para pessoa Física', 'descrição': 'Com base em seu CPF é possível realizar o empréstimo com base em seu salário e sua renda anual', 'url': 'http://banco.banco.banco/pessoa-fisica'},\n",
        "  {'titulo: ': 'Empréstimos para pessoa Física - Transporte', 'descrição': 'Com base em seu salário atual podemos financiar a compra de automóveis', 'url': 'http://banco.banco.banco/pessoa-fisica/transporte'},\n",
        "  {'titulo: ': 'Empréstimos para pessoa Física - Viagens', 'descrição': 'Com base em seu salário atual podemos adiantar a compra de passagens, estadia em hoteis e até aluguéis', 'url': 'http://banco.banco.banco/pessoa-fisica/viagem'},\n",
        "  {'titulo: ': 'Empréstimos para pessoa Física - Morada', 'descrição': 'Com base em seu salário atual podemos finaciar casas, apartamentos e auxilar em obras e reformas', 'url': 'http://banco.banco.banco/pessoa-fisica/moradia'},\n",
        "  {'titulo: ': 'Empréstimos para pessoa Física - Quitar dívidas', 'descrição': 'Com base em seu salário anual podemos renegociar suas dívidas com novos formatos de taxas e parcelamento', 'url': 'http://banco.banco.banco/pessoa-fisica/despesas'},\n",
        "  {'titulo: ': 'Empréstimos para pessoa Jurídica', 'descrição': 'Com base em seu CNPJ é possível realizar o empréstimo no rendimento anual da sua empresa', 'url': 'http://banco.banco.banco/pessoa-juridica'},\n",
        "  {'titulo: ': 'Empréstimos para pessoa Jurídica - Pequenos limites', 'descrição': 'Com base em seu rendimento anual podemos validar taxas menores para a empresa pagar variando as parcelas', 'url': 'http://banco.banco.banco/pessoa-juridica/pequenos-limites'},\n",
        "  {'titulo: ': 'Empréstimos para pessoa Jurídica - Crédito vapor', 'descrição': 'Com base nos créditos a receber, podemos realizar os pagamentos do emprestimo como uma taxa em seus valores de recebiveis', 'url': 'http://banco.banco.banco/pessoa-juridica/vapor'},\n",
        "  {'titulo: ': 'Empréstimos para pessoa Jurídica - Imóvel', 'descrição': 'Com base em seu CNPJ é possível financiar obras, reformas, contruções e compras de imóveis', 'url': 'http://banco.banco.banco/imovel'},\n",
        "  {'titulo: ': 'Quem somos nós', 'descrição': 'Breve histórico da instituição e sua jornada da criação aos dias de hoje', 'url': 'http://banco.banco.banco/instituição'},\n",
        "  {'titulo: ': 'Fale Conosco', 'descrição': 'Disponibiliza canais de comunicação como chats, e-mails e telefones de coloaborados que possam auxiliar em nossas matrizes e filiais', 'url': 'http://banco.banco.banco/contato'},\n",
        "  {'titulo: ': 'Dúvidas mais frequentes', 'descrição': 'Um compilado de informações com maior recorrência solicitadas aos nossos colaboradores para facilitar atendimento de possíveis dúvidas.', 'url': 'http://banco.banco.banco/faq'},\n",
        "]\n",
        "prompt_header = 'Como se fosse um recepcionista de um banco, instrua o cliente com satisfação e alegria porém de forma bastante sucinta, respondendo a pergunta a seguir com as opções que o banco pode ajudar o cliente: '\n",
        "sugestion_header = 'Como se fosse um atendente de um banco, reescreva de forma sucinta a frase: '\n",
        "\n",
        "def to_markdown(text):\n",
        "  text = text.replace('•', '  *')\n",
        "  display(Markdown(textwrap.indent(text, '> ', predicate=lambda _: True)))\n",
        ""
      ]
    },
    {
      "cell_type": "markdown",
      "source": [
        "Iniciando as instâncias que serão utilizadas nas funções dos processos que serão criados."
      ],
      "metadata": {
        "id": "Ctnp82N89o5Y"
      }
    },
    {
      "cell_type": "code",
      "source": [
        "genai.configure(api_key=userdata.get('api_key'))\n",
        "\n",
        "df = pd.DataFrame(site_map)\n",
        "df.columns = ['title', 'description', 'url']\n",
        "\n",
        "def get_embed_value(title, description):\n",
        "  return genai.embed_content(model='models/embedding-001',\n",
        "                             content=description,\n",
        "                             title=title,\n",
        "                             task_type='RETRIEVAL_DOCUMENT')['embedding']\n",
        "\n",
        "df['embeddings'] = df.apply(lambda row: get_embed_value(row['title'],row['description']), axis=1)\n",
        "\n",
        "def query_prompt(prompt):\n",
        "  query = genai.embed_content(model='models/embedding-001',\n",
        "                              content=prompt,\n",
        "                              task_type='RETRIEVAL_QUERY')['embedding']\n",
        "  scalar = np.dot(np.stack(df['embeddings']), query)\n",
        "  index = np.argmax(scalar)\n",
        "  return df.iloc[index]\n",
        "\n",
        "gemini = genai.GenerativeModel(model_name='gemini-1.0-pro',\n",
        "                              generation_config=generation_config,\n",
        "                              safety_settings=safety_settings)\n",
        "chat = gemini.start_chat(history=[])\n"
      ],
      "metadata": {
        "id": "X1HdNSrv9wUo"
      },
      "execution_count": 35,
      "outputs": []
    },
    {
      "cell_type": "markdown",
      "source": [
        "Criando o chat que retornará ao front-end o json que irá gerenciar a navegação da tela"
      ],
      "metadata": {
        "id": "mpduiBBmHOE4"
      }
    },
    {
      "cell_type": "code",
      "source": [
        "prompt = input('Olá, como podemos ajudar com seu empréstimo hoje?... ')\n",
        "\n",
        "while prompt.lower() != 'sair':\n",
        "  data = query_prompt(prompt)\n",
        "  response = {\n",
        "      'url': data['url'],\n",
        "      'title': data['title'],\n",
        "      'sugestion':chat.send_message(sugestion_header +  data['description']).text,\n",
        "      'response': chat.send_message(prompt_header + prompt).text}\n",
        "  print(json.dumps(response, ensure_ascii=False, indent=4))\n",
        "  prompt = input('Existe algo a mais que eu possa lhe auxiliar quanto ao seu empréstimo?... ')"
      ],
      "metadata": {
        "id": "wYnfG8y6Hl1U"
      },
      "execution_count": null,
      "outputs": []
    }
  ]
}